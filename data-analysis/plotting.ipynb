{
 "cells": [
  {
   "cell_type": "markdown",
   "metadata": {},
   "source": [
    "# data analysis and plotting results"
   ]
  },
  {
   "cell_type": "code",
   "execution_count": null,
   "metadata": {},
   "outputs": [],
   "source": [
    "import pickle\n",
    "import numpy as np\n",
    "import matplotlib.pyplot as plt\n",
    "from os.path import join as pjoin\n",
    "import seaborn as sns\n",
    "%matplotlib inline\n",
    "%config InlineBackend.print_figure_kwargs = {'bbox_inches':'tight'}"
   ]
  },
  {
   "cell_type": "markdown",
   "metadata": {},
   "source": [
    "## general definitions"
   ]
  },
  {
   "cell_type": "code",
   "execution_count": null,
   "metadata": {},
   "outputs": [],
   "source": [
    "result_dir = \"../raw-data/\"\n",
    "figures_dir = \"../figures/results/\""
   ]
  },
  {
   "cell_type": "code",
   "execution_count": null,
   "metadata": {},
   "outputs": [],
   "source": [
    "sns.set()\n",
    "sns.set_style('ticks')\n",
    "sns.set_context('paper',rc={\"font.size\":8,\"axes.titlesize\":8,\"axes.labelsize\":8})"
   ]
  },
  {
   "cell_type": "code",
   "execution_count": null,
   "metadata": {},
   "outputs": [],
   "source": [
    "# Colour scheme\n",
    "\n",
    "col_clean = tuple(x/255.0 for x in (50, 65, 75))\n",
    "col_stylized = tuple(x/255.0 for x in (180, 160, 105))\n",
    "col_combined = tuple(x/255.0 for x in (165, 30, 55))"
   ]
  },
  {
   "cell_type": "code",
   "execution_count": null,
   "metadata": {},
   "outputs": [],
   "source": [
    "# plotting parameters\n",
    "\n",
    "combined_plot_height = 7.0\n",
    "combined_plot_width = 6.0\n",
    "\n",
    "markersize = 16\n",
    "fontsize = 24\n",
    "linewidth = 2.5\n",
    "labelsize = 18\n",
    "legend_fontsize=18\n",
    "axis_start = -0.2\n",
    "axis_end = 5.3\n"
   ]
  },
  {
   "cell_type": "code",
   "execution_count": null,
   "metadata": {},
   "outputs": [],
   "source": [
    "def get_results_coco_cityscapes(eval_output, task='bbox', metric='AP', verbose=False):\n",
    "\n",
    "    results = np.zeros((20,6), dtype='float32')\n",
    "\n",
    "    for i, distortion in enumerate(eval_output):\n",
    "        for severity in eval_output[distortion]:\n",
    "            mAP = eval_output[distortion][severity][task][metric]\n",
    "            results[i, severity] = mAP\n",
    "            if verbose:\n",
    "                print(distortion, severity, mAP)\n",
    "                \n",
    "    return results\n",
    "\n",
    "def get_results_voc(eval_output, verbose=False):\n",
    "\n",
    "    results = np.zeros((20,6), dtype='float32')\n",
    "\n",
    "    for i, distortion in enumerate(eval_output):\n",
    "        for severity in eval_output[distortion]:\n",
    "            mAP = np.mean([eval_output[distortion][severity][j]['ap'] for j in range(len(eval_output[distortion][severity]))])\n",
    "            results[i, severity] = mAP\n",
    "            if verbose:\n",
    "                print(distortion, severity, mAP)\n",
    "                \n",
    "    return results\n",
    "\n",
    "def get_distortions(eval_output):\n",
    "    distortions = []\n",
    "    for i, distortion in enumerate(eval_output):\n",
    "        distortions.append(distortion.replace(\"_\", \" \"))\n",
    "    return distortions"
   ]
  },
  {
   "cell_type": "code",
   "execution_count": null,
   "metadata": {},
   "outputs": [],
   "source": [
    "def plot_individual_results(data_A, data_B, data_C, plot_name, metric_name,\n",
    "                            ylim, legend_loc=1, markersize=12, linewidth=2.0,\n",
    "                            fontsize=15, legend_fontsize=11.3, labelsize=12.0,\n",
    "                            data_name_A=\"standard data\", data_name_B=\"stylized data\",\n",
    "                            data_name_C=\"combined data\", color_A=col_clean,\n",
    "                            color_B = col_stylized, color_C = col_combined):\n",
    "\n",
    "    fig = plt.figure(figsize = (15.0, 20.0))\n",
    "    plt.subplots_adjust(wspace = 0.3, hspace = 0.5)\n",
    "\n",
    "    for i, distortion in enumerate(distortions[0:15]): # only plot first 15 distortions, not the validation distortions\n",
    "        ax = plt.subplot(5,3,i+1)\n",
    "\n",
    "        plt.plot(list(range(6)), data_A[i,:] * 100, 's-', zorder=2, color=color_A,\n",
    "                 label=data_name_A, markersize=markersize, linewidth=linewidth)\n",
    "        plt.plot(list(range(6)), data_B[i,:] * 100, '^-', zorder=1, color=color_B,\n",
    "                 label=data_name_B, markersize=markersize, linewidth=linewidth)\n",
    "        plt.plot(list(range(6)), data_C[i,:] * 100, 'o-', zorder=3, color=color_C,\n",
    "                 label=data_name_C, markersize=markersize, linewidth=linewidth)\n",
    "\n",
    "\n",
    "        plt.title(distortion, fontsize=fontsize)    \n",
    "        if i >= 12: # plot xlabel only in last row\n",
    "            plt.xlabel('corruption severity', fontsize=fontsize)\n",
    "        if i % 3 == 0:\n",
    "            plt.ylabel(metric_name, fontsize=fontsize)\n",
    "        plt.axis([axis_start, axis_end, ylim[0], ylim[1]])\n",
    "        if i == 0:\n",
    "            legend = plt.legend(loc=legend_loc, fontsize=legend_fontsize, frameon=True, edgecolor=\"black\")\n",
    "            legend.get_frame().set_linewidth(1.0)\n",
    "\n",
    "        ax.tick_params(axis='both', which='major', labelsize=labelsize)\n",
    "\n",
    "\n",
    "    sns.despine(trim=True, offset=5)\n",
    "\n",
    "    plt.show()\n",
    "\n",
    "    fig.savefig(pjoin(figures_dir, plot_name), bbox_inches='tight')\n",
    "    "
   ]
  },
  {
   "cell_type": "markdown",
   "metadata": {},
   "source": [
    "### Pascal VOC"
   ]
  },
  {
   "cell_type": "code",
   "execution_count": null,
   "metadata": {},
   "outputs": [],
   "source": [
    "with open(pjoin(result_dir, \"pascal_voc/faster_rcnn_r50_fpn_1x_voc0712_results.pkl\"), \"rb\") as f:\n",
    "    voc_out = pickle.load(f)\n",
    "with open(pjoin(result_dir, \"pascal_voc/faster_rcnn_r50_fpn_1x_svoc0712_results.pkl\"), \"rb\") as f:\n",
    "    svoc_out = pickle.load(f)\n",
    "with open(pjoin(result_dir, \"pascal_voc/faster_rcnn_r50_fpn_1x_vocsvoc0712_results.pkl\"), \"rb\") as f:\n",
    "    voc_svoc_out = pickle.load(f)"
   ]
  },
  {
   "cell_type": "code",
   "execution_count": null,
   "metadata": {},
   "outputs": [],
   "source": [
    "distortions = get_distortions(voc_out)"
   ]
  },
  {
   "cell_type": "code",
   "execution_count": null,
   "metadata": {},
   "outputs": [],
   "source": [
    "voc_results = get_results_voc(voc_out)\n",
    "svoc_results = get_results_voc(svoc_out)\n",
    "voc_svoc_results = get_results_voc(voc_svoc_out)"
   ]
  },
  {
   "cell_type": "code",
   "execution_count": null,
   "metadata": {},
   "outputs": [],
   "source": [
    "# absolute clean performance\n",
    "print(np.mean(voc_results[0,0]), \n",
    "      np.mean(svoc_results[0,0]), \n",
    "      np.mean(voc_svoc_results[0,0]))\n",
    "\n",
    "# absolute performance under corruption\n",
    "print(np.mean(voc_results[:15,1:]), \n",
    "      np.mean(svoc_results[:15,1:]), \n",
    "      np.mean(voc_svoc_results[:15,1:]))\n",
    "\n",
    "# realtive performance\n",
    "print(np.mean(voc_results[:15,1:])/voc_results[0,0], \n",
    "      np.mean(svoc_results[:15,1:])/svoc_results[0,0], \n",
    "      np.mean(voc_svoc_results[:15,1:])/voc_svoc_results[0,0])"
   ]
  },
  {
   "cell_type": "code",
   "execution_count": null,
   "metadata": {},
   "outputs": [],
   "source": [
    "def set_fontsize_helper(ax, fontsize):\n",
    "    \n",
    "    for item in ([ax.title, ax.xaxis.label, ax.yaxis.label] +\n",
    "             ax.get_xticklabels() + ax.get_yticklabels()):\n",
    "        item.set_fontsize(fontsize)"
   ]
  },
  {
   "cell_type": "code",
   "execution_count": null,
   "metadata": {},
   "outputs": [],
   "source": [
    "# Pascal VOC combined=averaged plot\n",
    "\n",
    "fig = plt.figure(figsize = (combined_plot_width, combined_plot_height))\n",
    "\n",
    "ax = plt.subplot(1,1,1)\n",
    "plt.plot(list(range(6)), np.mean(voc_results[:15,:], axis=0) * 100,\n",
    "         's-', zorder=2, color=col_clean, label='standard data', markersize=markersize,\n",
    "        linewidth=linewidth)\n",
    "plt.plot(list(range(6)), np.mean(svoc_results[:15,:], axis=0) * 100,\n",
    "         '^-', zorder=1, color=col_stylized, label='stylized data', markersize=markersize,\n",
    "        linewidth=linewidth)\n",
    "plt.plot(list(range(6)), np.mean(voc_svoc_results[:15,:], axis=0) * 100,\n",
    "         'o-', zorder=3, color=col_combined, label='combined data', markersize=markersize,\n",
    "        linewidth=linewidth)\n",
    "\n",
    "plt.xlabel('corruption severity', fontsize=fontsize)\n",
    "plt.ylabel('mAP50 in %', fontsize=fontsize)\n",
    "plt.axis([axis_start, axis_end, 0, 85])\n",
    "ax.tick_params(axis='both', which='major', labelsize=labelsize)\n",
    "legend = plt.legend(loc=3, fontsize=legend_fontsize, frameon=True, edgecolor=\"black\")\n",
    "legend.get_frame().set_linewidth(1.0)\n",
    "\n",
    "sns.despine(trim=True, offset=5)\n",
    "\n",
    "plt.show()\n",
    "\n",
    "fig.savefig(pjoin(figures_dir, 'pascal_corruption_overall.pdf'), bbox_inches='tight')"
   ]
  },
  {
   "cell_type": "code",
   "execution_count": null,
   "metadata": {},
   "outputs": [],
   "source": [
    "plot_individual_results(data_A = voc_results,\n",
    "                        data_B=svoc_results,\n",
    "                        data_C=voc_svoc_results,\n",
    "                        plot_name=\"pascal_corruption_individual.pdf\",\n",
    "                        metric_name=\"mAP50 in %\", ylim=[0, 85], legend_loc=3)"
   ]
  },
  {
   "cell_type": "markdown",
   "metadata": {},
   "source": [
    "### MS COCO"
   ]
  },
  {
   "cell_type": "code",
   "execution_count": null,
   "metadata": {},
   "outputs": [],
   "source": [
    "with open(pjoin(result_dir, \"coco/faster_rcnn_r50_fpn_1x_coco_results.pkl\"), \"rb\") as f:\n",
    "    coco_out = pickle.load(f)\n",
    "with open(pjoin(result_dir, \"coco/faster_rcnn_r50_fpn_1x_scoco_results.pkl\"), \"rb\") as f:\n",
    "    scoco_out = pickle.load(f)\n",
    "with open(pjoin(result_dir, \"coco/faster_rcnn_r50_fpn_1x_cocoscoco_results.pkl\"), \"rb\") as f:\n",
    "    coco_scoco_out = pickle.load(f)"
   ]
  },
  {
   "cell_type": "code",
   "execution_count": null,
   "metadata": {},
   "outputs": [],
   "source": [
    "distortions = get_distortions(coco_out)"
   ]
  },
  {
   "cell_type": "code",
   "execution_count": null,
   "metadata": {},
   "outputs": [],
   "source": [
    "coco_results = get_results_coco_cityscapes(coco_out)\n",
    "scoco_results = get_results_coco_cityscapes(scoco_out)\n",
    "coco_scoco_results = get_results_coco_cityscapes(coco_scoco_out)"
   ]
  },
  {
   "cell_type": "code",
   "execution_count": null,
   "metadata": {},
   "outputs": [],
   "source": [
    "# absolute clean performance\n",
    "print(np.mean(coco_results[0,0]), \n",
    "      np.mean(scoco_results[0,0]), \n",
    "      np.mean(coco_scoco_results[0,0]))\n",
    "\n",
    "# absolute performance under corruption\n",
    "print(np.mean(coco_results[:15,1:]), \n",
    "      np.mean(scoco_results[:15,1:]), \n",
    "      np.mean(coco_scoco_results[:15,1:]))\n",
    "\n",
    "# realtive performance\n",
    "print(np.mean(coco_results[:15,1:])/coco_results[0,0], \n",
    "      np.mean(scoco_results[:15,1:])/scoco_results[0,0], \n",
    "      np.mean(coco_scoco_results[:15,1:])/coco_scoco_results[0,0])"
   ]
  },
  {
   "cell_type": "code",
   "execution_count": null,
   "metadata": {},
   "outputs": [],
   "source": [
    "# MS COCO combined results\n",
    "\n",
    "fig = plt.figure(figsize = (combined_plot_width, combined_plot_height))\n",
    "\n",
    "ax = plt.subplot(1,1,1)\n",
    "\n",
    "plt.plot(list(range(6)), np.mean(coco_results[:15,:], axis=0) * 100,\n",
    "         's-', zorder=2, color=col_clean, label='coco', markersize=markersize,\n",
    "        linewidth=linewidth)\n",
    "plt.plot(list(range(6)), np.mean(scoco_results[:15,:], axis=0) * 100,\n",
    "         '^-', zorder=1, color=col_stylized, label='stylized coco', markersize=markersize,\n",
    "        linewidth=linewidth)\n",
    "plt.plot(list(range(6)), np.mean(coco_scoco_results[:15,:], axis=0) * 100,\n",
    "         'o-', zorder=3, color=col_combined, label='combined', markersize=markersize,\n",
    "        linewidth=linewidth)\n",
    "\n",
    "\n",
    "plt.xlabel('corruption severity', fontsize=fontsize)\n",
    "plt.ylabel('mAP in %', fontsize=fontsize)\n",
    "plt.axis([axis_start, axis_end, 0, 40])\n",
    "ax.tick_params(axis='both', which='major', labelsize=labelsize)\n",
    "\n",
    "sns.despine(trim=True, offset=5)\n",
    "\n",
    "plt.show()\n",
    "\n",
    "fig.savefig(pjoin(figures_dir, \"coco_corruption_overall.pdf\"), bbox_inches='tight')"
   ]
  },
  {
   "cell_type": "code",
   "execution_count": null,
   "metadata": {},
   "outputs": [],
   "source": [
    "plot_individual_results(data_A = coco_results,\n",
    "                        data_B=scoco_results,\n",
    "                        data_C=coco_scoco_results,\n",
    "                        plot_name=\"coco_corruption_individual.pdf\",\n",
    "                        metric_name=\"mAP in %\", ylim=[0, 40])"
   ]
  },
  {
   "cell_type": "markdown",
   "metadata": {},
   "source": [
    "### MS COCO Benchmark"
   ]
  },
  {
   "cell_type": "code",
   "execution_count": null,
   "metadata": {},
   "outputs": [],
   "source": [
    "with open(pjoin(result_dir, \"coco/faster_rcnn_r50_fpn_1x_results.pkl\"), \"rb\") as f:\n",
    "    coco_frcnn_r50_out = pickle.load(f)\n",
    "with open(pjoin(result_dir, \"coco/faster_rcnn_r101_fpn_1x_results.pkl\"), \"rb\") as f:\n",
    "    coco_frcnn_r101_out = pickle.load(f)\n",
    "with open(pjoin(result_dir, \"coco/faster_rcnn_x101_32x4d_fpn_1x_results.pkl\"), \"rb\") as f:\n",
    "    coco_frcnn_x101_32x4d_out = pickle.load(f)\n",
    "with open(pjoin(result_dir, \"coco/faster_rcnn_x101_64x4d_fpn_1x_results.pkl\"), \"rb\") as f:\n",
    "    coco_frcnn_x101_64x4d_out = pickle.load(f)\n",
    "    \n",
    "with open(pjoin(result_dir, \"coco/mask_rcnn_r50_fpn_1x_results.pkl\"), \"rb\") as f:\n",
    "    coco_mrcnn_r50_out = pickle.load(f)\n",
    "with open(pjoin(result_dir, \"coco/cascade_rcnn_r50_fpn_1x_results.pkl\"), \"rb\") as f:\n",
    "    coco_crcnn_r50_out = pickle.load(f)\n",
    "with open(pjoin(result_dir, \"coco/cascade_mask_rcnn_r50_fpn_1x_results.pkl\"), \"rb\") as f:\n",
    "    coco_cmrcnn_r50_out = pickle.load(f)\n",
    "with open(pjoin(result_dir, \"coco/retinanet_r50_fpn_1x_results.pkl\"), \"rb\") as f:\n",
    "    coco_retina_r50_out = pickle.load(f)\n",
    "    \n",
    "with open(pjoin(result_dir, \"coco/faster_rcnn_dconv_c3-c5_r50_fpn_1x_results.pkl\"), \"rb\") as f:\n",
    "    coco_frcnn_dcn_r50_out = pickle.load(f)\n",
    "with open(pjoin(result_dir, \"coco/faster_rcnn_dconv_c3-c5_x101_32x4d_fpn_1x_results.pkl\"), \"rb\") as f:\n",
    "    coco_frcnn_dcn_x101_32x4d_out = pickle.load(f)\n",
    "with open(pjoin(result_dir, \"coco/mask_rcnn_dconv_c3-c5_r50_fpn_1x_results.pkl\"), \"rb\") as f:\n",
    "    coco_mrcnn_dcn_r50_out = pickle.load(f)\n",
    "with open(pjoin(result_dir, \"coco/htc_dconv_c3-c5_mstrain_400_1400_x101_64x4d_fpn_20e_results.pkl\"), \"rb\") as f:\n",
    "    coco_htc_dcn_x101_64x4d_out = pickle.load(f)"
   ]
  },
  {
   "cell_type": "code",
   "execution_count": null,
   "metadata": {},
   "outputs": [],
   "source": [
    "distortions = get_distortions(coco_frcnn_r50_out)"
   ]
  },
  {
   "cell_type": "code",
   "execution_count": null,
   "metadata": {},
   "outputs": [],
   "source": [
    "coco_frcnn_r50_results = get_results_coco_cityscapes(coco_frcnn_r50_out)\n",
    "coco_frcnn_r101_results = get_results_coco_cityscapes(coco_frcnn_r101_out)\n",
    "coco_frcnn_x101_32x4d_results = get_results_coco_cityscapes(coco_frcnn_x101_32x4d_out)\n",
    "coco_frcnn_x101_64x4d_results = get_results_coco_cityscapes(coco_frcnn_x101_64x4d_out)\n",
    "\n",
    "coco_mrcnn_r50_results = get_results_coco_cityscapes(coco_mrcnn_r50_out)\n",
    "coco_crcnn_r50_results = get_results_coco_cityscapes(coco_crcnn_r50_out)\n",
    "coco_cmrcnn_r50_results = get_results_coco_cityscapes(coco_cmrcnn_r50_out)\n",
    "coco_retina_r50_results = get_results_coco_cityscapes(coco_retina_r50_out)\n",
    "\n",
    "coco_frcnn_dcn_r50_results = get_results_coco_cityscapes(coco_frcnn_dcn_r50_out)\n",
    "coco_frcnn_dcn_x101_32x4d_results = get_results_coco_cityscapes(coco_frcnn_dcn_x101_32x4d_out)\n",
    "coco_mrcnn_dcn_r50_results = get_results_coco_cityscapes(coco_mrcnn_dcn_r50_out)\n",
    "coco_htc_dcn_x101_64x4d_results = get_results_coco_cityscapes(coco_htc_dcn_x101_64x4d_out)\n",
    "\n",
    "coco_mrcnn_r50_results_segm = get_results_coco_cityscapes(coco_mrcnn_r50_out, task='segm')\n",
    "coco_cmrcnn_r50_results_segm = get_results_coco_cityscapes(coco_cmrcnn_r50_out, task='segm')\n",
    "coco_mrcnn_dcn_r50_results_segm = get_results_coco_cityscapes(coco_mrcnn_dcn_r50_out, task='segm')\n",
    "coco_htc_dcn_x101_64x4d_results_segm = get_results_coco_cityscapes(coco_htc_dcn_x101_64x4d_out, task='segm')"
   ]
  },
  {
   "cell_type": "code",
   "execution_count": null,
   "metadata": {},
   "outputs": [],
   "source": [
    "result_list = [coco_frcnn_r50_results, \n",
    "               coco_frcnn_r101_results, \n",
    "                coco_frcnn_x101_32x4d_results, \n",
    "                coco_frcnn_x101_64x4d_results,\n",
    "                coco_frcnn_dcn_r50_results,\n",
    "                coco_frcnn_dcn_x101_32x4d_results,\n",
    "                coco_mrcnn_dcn_r50_results,\n",
    "                coco_htc_dcn_x101_64x4d_results,\n",
    "                coco_mrcnn_r50_results, \n",
    "                coco_crcnn_r50_results, \n",
    "                coco_cmrcnn_r50_results, \n",
    "                coco_retina_r50_results, \n",
    "                coco_mrcnn_r50_results_segm, \n",
    "                coco_cmrcnn_r50_results_segm, \n",
    "                coco_mrcnn_dcn_r50_results_segm,\n",
    "                coco_htc_dcn_x101_64x4d_results_segm]\n",
    "\n",
    "model_names = ['frcnn_r50', \n",
    "                'frcnn_r101', \n",
    "                'frcnn_x101_32x4d', \n",
    "                'frcnn_x101_64x4d',\n",
    "                'frcnn_dcn_r50',\n",
    "                'frcnn_dcn_x101_32x4d',\n",
    "                'mrcnn_dcn_r50',\n",
    "                'htc_dcn_x101_64x4d',\n",
    "                'mrcnn_r50', \n",
    "                'crcnn_r50', \n",
    "                'cmrcnn_r50', \n",
    "                'retinanet_r50', \n",
    "                'mrcnn_r50_segm', \n",
    "                'cmrcnn_r50_segm',\n",
    "                'mrcnn_dcn_r50_segm',\n",
    "                'htc_dcn_x101_64x4d_segm']\n",
    "\n",
    "colors = ['black','dark red', 'red', 'orange', 'dandelion']"
   ]
  },
  {
   "cell_type": "code",
   "execution_count": null,
   "metadata": {},
   "outputs": [],
   "source": [
    "for i, results in enumerate(result_list):\n",
    "    print('{}: clean:{:.1f} corr.:{:.1f} rel:{:.1f}%'.format(model_names[i], \n",
    "                                                           results[0,0] * 100, \n",
    "                                                           np.mean(results[:15,1:]) * 100, \n",
    "                                                           np.mean(results[:15,1:])/results[0,0] * 100))\n",
    "    \n",
    "    print('')"
   ]
  },
  {
   "cell_type": "code",
   "execution_count": null,
   "metadata": {},
   "outputs": [],
   "source": [
    "# plot results for different backbones\n",
    "\n",
    "# use different colour scheme to avoid confusion\n",
    "col_resnet50 = col_clean\n",
    "col_resnet101 = tuple(x/255.0 for x in (175, 110, 150))\n",
    "col_resnext101 = tuple(x/255.0 for x in (210, 150, 0))\n",
    "\n",
    "plot_individual_results(data_A = coco_frcnn_r50_results,\n",
    "                        data_B=coco_frcnn_r101_results,\n",
    "                        data_C=coco_frcnn_x101_64x4d_results,\n",
    "                        color_A=col_resnet50,\n",
    "                        color_B=col_resnet101,\n",
    "                        color_C=col_resnext101,\n",
    "                        data_name_A=\"ResNet-50\",\n",
    "                        data_name_B=\"ResNet-101\",\n",
    "                        data_name_C=\"ResNeXt-101\",\n",
    "                        plot_name=\"coco_corruption_backbones_individual.pdf\",\n",
    "                        metric_name=\"mAP in %\", ylim=[-1, 45])"
   ]
  },
  {
   "cell_type": "markdown",
   "metadata": {},
   "source": [
    "## Citscapes"
   ]
  },
  {
   "cell_type": "code",
   "execution_count": null,
   "metadata": {},
   "outputs": [],
   "source": [
    "with open(pjoin(result_dir, \"cityscapes/faster_rcnn_r50_fpn_1x_city_results.pkl\"), \"rb\") as f:\n",
    "    city_out = pickle.load(f)\n",
    "with open(pjoin(result_dir, \"cityscapes/faster_rcnn_r50_fpn_1x_scity_results.pkl\"), \"rb\") as f:\n",
    "    scity_out = pickle.load(f)\n",
    "with open(pjoin(result_dir, \"cityscapes/faster_rcnn_r50_fpn_1x_cityscity_results.pkl\"), \"rb\") as f:\n",
    "    city_scity_out = pickle.load(f)\n",
    "\n",
    "distortions = get_distortions(city_out)"
   ]
  },
  {
   "cell_type": "code",
   "execution_count": null,
   "metadata": {},
   "outputs": [],
   "source": [
    "city_results = get_results_coco_cityscapes(city_out)\n",
    "scity_results = get_results_coco_cityscapes(scity_out)\n",
    "city_scity_results = get_results_coco_cityscapes(city_scity_out)"
   ]
  },
  {
   "cell_type": "code",
   "execution_count": null,
   "metadata": {},
   "outputs": [],
   "source": [
    "# absolute clean performance\n",
    "print(np.mean(city_results[0,0]), \n",
    "      np.mean(scity_results[0,0]), \n",
    "      np.mean(city_scity_results[0,0]))\n",
    "\n",
    "# absolute performance under corruption\n",
    "print(np.mean(city_results[:15,1:]), \n",
    "      np.mean(scity_results[:15,1:]), \n",
    "      np.mean(city_scity_results[:15,1:]))\n",
    "\n",
    "    # realtive performance\n",
    "print(np.mean(city_results[:15,1:])/city_results[0,0], \n",
    "      np.mean(scity_results[:15,1:])/scity_results[0,0], \n",
    "      np.mean(city_scity_results[:15,1:])/city_scity_results[0,0])"
   ]
  },
  {
   "cell_type": "code",
   "execution_count": null,
   "metadata": {},
   "outputs": [],
   "source": [
    "# Cityscapes combined results\n",
    "\n",
    "fig = plt.figure(figsize = (combined_plot_width, combined_plot_height))\n",
    "\n",
    "ax = plt.subplot(1,1,1)\n",
    "\n",
    "plt.plot(list(range(6)), np.mean(city_results[:15,:], axis=0) * 100,\n",
    "         's-', zorder=2, color=col_clean, label='standard data', markersize=markersize,\n",
    "        linewidth=linewidth)\n",
    "plt.plot(list(range(6)), np.mean(scity_results[:15,:], axis=0) * 100,\n",
    "         '^-', zorder=1, color=col_stylized, label='stylized data', markersize=markersize,\n",
    "        linewidth=linewidth)\n",
    "plt.plot(list(range(6)), np.mean(city_scity_results[:15,:], axis=0) * 100,\n",
    "         'o-', zorder=3, color=col_combined, label='including stylized data', markersize=markersize,\n",
    "        linewidth=linewidth)\n",
    "\n",
    "\n",
    "plt.xlabel('corruption severity', fontsize=fontsize)\n",
    "plt.ylabel('mAP in %', fontsize=fontsize)\n",
    "plt.axis([axis_start, axis_end, 0, 40])\n",
    "ax.tick_params(axis='both', which='major', labelsize=labelsize)\n",
    "\n",
    "sns.despine(trim=True, offset=5)\n",
    "\n",
    "plt.show()\n",
    "\n",
    "fig.savefig(pjoin(figures_dir, \"cityscapes_corruption_overall.pdf\"), bbox_inches='tight')"
   ]
  },
  {
   "cell_type": "code",
   "execution_count": null,
   "metadata": {},
   "outputs": [],
   "source": [
    "plot_individual_results(clean_data = city_results,\n",
    "                        stylized_data=scity_results,\n",
    "                        combined_data=city_scity_results,\n",
    "                        plot_name=\"cityscapes_corruption_individual.pdf\",\n",
    "                        metric_name=\"mAP in %\", ylim=[-1, 40])"
   ]
  },
  {
   "cell_type": "code",
   "execution_count": null,
   "metadata": {},
   "outputs": [],
   "source": []
  }
 ],
 "metadata": {
  "kernelspec": {
   "display_name": "Python 3",
   "language": "python",
   "name": "python3"
  },
  "language_info": {
   "codemirror_mode": {
    "name": "ipython",
    "version": 3
   },
   "file_extension": ".py",
   "mimetype": "text/x-python",
   "name": "python",
   "nbconvert_exporter": "python",
   "pygments_lexer": "ipython3",
   "version": "3.6.8"
  }
 },
 "nbformat": 4,
 "nbformat_minor": 2
}
