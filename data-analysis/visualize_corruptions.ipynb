{
 "cells": [
  {
   "cell_type": "code",
   "execution_count": null,
   "metadata": {},
   "outputs": [],
   "source": [
    "import matplotlib.pyplot as plt\n",
    "import matplotlib.image as mpimg\n",
    "%matplotlib inline\n",
    "import numpy as np\n",
    "from imagecorruptions import corrupt\n",
    "from PIL import Image\n",
    "import seaborn as sns\n",
    "import random"
   ]
  },
  {
   "cell_type": "code",
   "execution_count": null,
   "metadata": {},
   "outputs": [],
   "source": [
    "def perturb(i, p):\n",
    "    perturbed = []\n",
    "    for s in [1,2,3,4,5]:\n",
    "        perturbed.append(corrupt(i, corruption_name=p, severity=s))\n",
    "    return perturbed"
   ]
  },
  {
   "cell_type": "code",
   "execution_count": null,
   "metadata": {},
   "outputs": [],
   "source": [
    "img = mpimg.imread('./Example_Pascal_VOC.jpg')  \n",
    "img_cropped = img[60:-100, 70:-120]\n",
    "plt.imshow(np.uint8(img_cropped))\n",
    "plt.title('Example image from Pascal VOC, cropped')\n",
    "plt.axis('off')\n",
    "plt.show()\n"
   ]
  },
  {
   "cell_type": "code",
   "execution_count": null,
   "metadata": {},
   "outputs": [],
   "source": [
    "corruptions = ['gaussian_noise', 'shot_noise', 'impulse_noise', 'defocus_blur',\n",
    "                'glass_blur', 'motion_blur', 'zoom_blur', 'snow', 'frost', 'fog',\n",
    "                'brightness', 'contrast', 'elastic_transform', 'pixelate', 'jpeg_compression',\n",
    "                'speckle_noise', 'gaussian_blur', 'spatter', 'saturate']\n",
    "\n",
    "corruption_dict = \\\n",
    "    {'brightness': 'Brightness',\n",
    "     'contrast': 'Contrast' ,\n",
    "      'defocus_blur': 'Defocus Blur',\n",
    "      'elastic_transform': 'Elastic Transform',\n",
    "      'fog': 'Fog',\n",
    "      'frost': 'Frost',\n",
    "      'gaussian_noise': 'Gaussian Noise',\n",
    "      'glass_blur': 'Glass Blur',\n",
    "      'impulse_noise': 'Impulse Noise',\n",
    "      'jpeg_compression': 'JPEG Compression',\n",
    "      'motion_blur': 'Motion Blur',\n",
    "      'pixelate': 'Pixelate',\n",
    "      'shot_noise': 'Shot Noise',\n",
    "      'snow': 'Snow',\n",
    "      'zoom_blur': 'Zoom Blur',\n",
    "      'speckle_noise': 'Speckle Noise',\n",
    "      'gaussian_blur': 'Gaussian Blur',\n",
    "      'spatter': 'Spatter',\n",
    "      'saturate': 'Saturate'}"
   ]
  },
  {
   "cell_type": "code",
   "execution_count": null,
   "metadata": {},
   "outputs": [],
   "source": [
    "random.seed(8) # for reproducibility\n",
    "np.random.seed(8)\n",
    "perturbed = [perturb(img_cropped, p) for p in corruptions]"
   ]
  },
  {
   "cell_type": "code",
   "execution_count": null,
   "metadata": {},
   "outputs": [],
   "source": [
    "#### Visualize corruptions on Pascal VOC\n",
    "\n",
    "fig = plt.figure(figsize = (25.0, 13.0))\n",
    "plt.subplots_adjust(wspace = 0.3, hspace = 0.5)\n",
    "\n",
    "# Display this corruption severity:\n",
    "severity = 3\n",
    "\n",
    "for i, p in enumerate(perturbed):\n",
    "    if i > 14:\n",
    "        break\n",
    "    for j, corr_img in enumerate(p):\n",
    "        if j == severity-1:\n",
    "            plt.subplot(3,5,i+1)\n",
    "            plt.imshow(corr_img)      \n",
    "\n",
    "            plt.title(corruption_dict[corruptions[i]], fontsize=20)\n",
    "            plt.axis('off')\n",
    "\n",
    "sns.despine(trim=True, offset=5)\n",
    "plt.subplots_adjust(wspace=0.01, hspace=0.0001)\n",
    "plt.show()\n",
    "\n",
    "fig_title = '../figures/methods/visualize_corruptions_' + str(severity) + '_cropped.png'\n",
    "fig.savefig(fig_title, bbox_inches='tight')\n",
    "\n",
    "fig_title = '../figures/methods/visualize_corruptions_' + str(severity) + '_cropped.pdf'\n",
    "fig.savefig(fig_title, bbox_inches='tight')"
   ]
  },
  {
   "cell_type": "code",
   "execution_count": null,
   "metadata": {},
   "outputs": [],
   "source": []
  }
 ],
 "metadata": {
  "kernelspec": {
   "display_name": "Python 3",
   "language": "python",
   "name": "python3"
  },
  "language_info": {
   "codemirror_mode": {
    "name": "ipython",
    "version": 3
   },
   "file_extension": ".py",
   "mimetype": "text/x-python",
   "name": "python",
   "nbconvert_exporter": "python",
   "pygments_lexer": "ipython3",
   "version": "3.6.3"
  }
 },
 "nbformat": 4,
 "nbformat_minor": 2
}
